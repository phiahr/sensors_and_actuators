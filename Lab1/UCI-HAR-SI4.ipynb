{
 "cells": [
  {
   "cell_type": "markdown",
   "metadata": {},
   "source": [
    "# UCI-HAR CNN"
   ]
  },
  {
   "cell_type": "markdown",
   "metadata": {},
   "source": [
    "## Imports"
   ]
  },
  {
   "cell_type": "code",
   "execution_count": 1,
   "metadata": {},
   "outputs": [],
   "source": [
    "import numpy as np\n",
    "import tensorflow as tf\n",
    "from tensorflow.keras.models import Sequential\n",
    "from tensorflow.keras.layers import Input, Conv1D, MaxPool1D, Flatten, Dense, Activation, Dropout\n",
    "from tensorflow.keras.utils import to_categorical\n",
    "\n",
    "import wandb\n",
    "from wandb.keras import WandbMetricsLogger, WandbCallback"
   ]
  },
  {
   "cell_type": "markdown",
   "metadata": {},
   "source": [
    "## Load and format UCI-HAR dataset"
   ]
  },
  {
   "cell_type": "code",
   "execution_count": 2,
   "metadata": {},
   "outputs": [],
   "source": [
    "x_train = np.loadtxt('x_train.csv', delimiter=',').reshape((-1, 128, 9))\n",
    "y_train = np.loadtxt('y_train.csv', delimiter=',')\n",
    "x_test = np.loadtxt('x_test.csv', delimiter=',').reshape((-1, 128, 9))\n",
    "y_test = np.loadtxt('y_test.csv', delimiter=',')\n",
    "np.savetxt('x_test_250.csv', x_test.reshape((x_test.shape[0], -1))[0:250], delimiter=',', fmt='%s')\n",
    "np.savetxt('y_test_250.csv', y_test[0:250], delimiter=',', fmt='%s')\n",
    "x_test_250 = np.loadtxt('x_test_250.csv', delimiter=',').reshape((-1, 128, 9))\n",
    "y_test_250 = np.loadtxt('y_test_250.csv', delimiter=',')"
   ]
  },
  {
   "cell_type": "markdown",
   "metadata": {},
   "source": [
    "## Build model"
   ]
  },
  {
   "cell_type": "code",
   "execution_count": 3,
   "metadata": {},
   "outputs": [
    {
     "name": "stdout",
     "output_type": "stream",
     "text": [
      "Metal device set to: Apple M1\n",
      "\n",
      "systemMemory: 16.00 GB\n",
      "maxCacheSize: 5.33 GB\n",
      "\n"
     ]
    },
    {
     "name": "stderr",
     "output_type": "stream",
     "text": [
      "2023-01-19 09:30:58.397391: I tensorflow/core/common_runtime/pluggable_device/pluggable_device_factory.cc:305] Could not identify NUMA node of platform GPU ID 0, defaulting to 0. Your kernel may not have been built with NUMA support.\n",
      "2023-01-19 09:30:58.397566: I tensorflow/core/common_runtime/pluggable_device/pluggable_device_factory.cc:271] Created TensorFlow device (/job:localhost/replica:0/task:0/device:GPU:0 with 0 MB memory) -> physical PluggableDevice (device: 0, name: METAL, pci bus id: <undefined>)\n",
      "\u001b[34m\u001b[1mwandb\u001b[0m: Currently logged in as: \u001b[33mcitrovin\u001b[0m (\u001b[33mjuzay_and_co\u001b[0m). Use \u001b[1m`wandb login --relogin`\u001b[0m to force relogin\n"
     ]
    },
    {
     "data": {
      "text/html": [
       "wandb version 0.13.9 is available!  To upgrade, please run:\n",
       " $ pip install wandb --upgrade"
      ],
      "text/plain": [
       "<IPython.core.display.HTML object>"
      ]
     },
     "metadata": {},
     "output_type": "display_data"
    },
    {
     "data": {
      "text/html": [
       "Tracking run with wandb version 0.13.7"
      ],
      "text/plain": [
       "<IPython.core.display.HTML object>"
      ]
     },
     "metadata": {},
     "output_type": "display_data"
    },
    {
     "data": {
      "text/html": [
       "Run data is saved locally in <code>/Users/dalimwahby/Documents/EIT/UCA/Embedded AI/Labs/Lab2/UCI_HAR/wandb/run-20230119_093100-s4gnecaf</code>"
      ],
      "text/plain": [
       "<IPython.core.display.HTML object>"
      ]
     },
     "metadata": {},
     "output_type": "display_data"
    },
    {
     "data": {
      "text/html": [
       "Syncing run <strong><a href=\"https://wandb.ai/juzay_and_co/Embedded-AI-Lab2-UCI-HAR/runs/s4gnecaf\" target=\"_blank\">Conv1D 64 | Conv1D 64 | Dropout | Flatten | Dense 100 | MaxPooling | Run 1</a></strong> to <a href=\"https://wandb.ai/juzay_and_co/Embedded-AI-Lab2-UCI-HAR\" target=\"_blank\">Weights & Biases</a> (<a href=\"https://wandb.me/run\" target=\"_blank\">docs</a>)<br/>"
      ],
      "text/plain": [
       "<IPython.core.display.HTML object>"
      ]
     },
     "metadata": {},
     "output_type": "display_data"
    },
    {
     "name": "stdout",
     "output_type": "stream",
     "text": [
      "Model: \"sequential\"\n",
      "_________________________________________________________________\n",
      " Layer (type)                Output Shape              Param #   \n",
      "=================================================================\n",
      " conv1d (Conv1D)             (None, 126, 64)           1792      \n",
      "                                                                 \n",
      " conv1d_1 (Conv1D)           (None, 124, 64)           12352     \n",
      "                                                                 \n",
      " dropout (Dropout)           (None, 124, 64)           0         \n",
      "                                                                 \n",
      " max_pooling1d (MaxPooling1D  (None, 62, 64)           0         \n",
      " )                                                               \n",
      "                                                                 \n",
      " flatten (Flatten)           (None, 3968)              0         \n",
      "                                                                 \n",
      " dense (Dense)               (None, 100)               396900    \n",
      "                                                                 \n",
      " dense_1 (Dense)             (None, 6)                 606       \n",
      "                                                                 \n",
      " activation (Activation)     (None, 6)                 0         \n",
      "                                                                 \n",
      "=================================================================\n",
      "Total params: 411,650\n",
      "Trainable params: 411,650\n",
      "Non-trainable params: 0\n",
      "_________________________________________________________________\n"
     ]
    },
    {
     "name": "stderr",
     "output_type": "stream",
     "text": [
      "/opt/homebrew/Caskroom/miniforge/base/envs/embeddedAI/lib/python3.10/site-packages/keras/optimizers/optimizer_v2/adam.py:110: UserWarning: The `lr` argument is deprecated, use `learning_rate` instead.\n",
      "  super(Adam, self).__init__(name, **kwargs)\n"
     ]
    }
   ],
   "source": [
    "model = Sequential()\n",
    "model.add(Input(shape=(128, 9))) # 128 data points form sensors | 9 time steps\n",
    "model.add(Conv1D(filters=64, kernel_size=3, activation='relu'))\n",
    "model.add(Conv1D(filters=64, kernel_size=3, activation='relu'))\n",
    "model.add(Dropout(0.3))\n",
    "model.add(MaxPool1D(pool_size=2))\n",
    "model.add(Flatten())\n",
    "model.add(Dense(units=100, activation='relu'))\n",
    "model.add(Dense(units=6))\n",
    "model.add(Activation('softmax')) # SoftMax activation needs to be separate from Dense to remove it later on\n",
    "\n",
    "# log NN details\n",
    "wandb.init(\n",
    "    project=\"Embedded-AI-Lab2-UCI-HAR\",\n",
    "    entity=\"juzay_and_co\",\n",
    "    name=\"Conv1D 64 | Conv1D 64 | Dropout | Flatten | Dense 100 | MaxPooling | Run 1\",\n",
    "    config=model.get_config()\n",
    ")\n",
    "\n",
    "\n",
    "# EXPLORE Learning Rate\n",
    "opt = tf.keras.optimizers.Adam(lr=10e-3)\n",
    "model.summary()\n",
    "model.compile(optimizer=opt, loss='categorical_crossentropy', metrics=['categorical_accuracy'])"
   ]
  },
  {
   "cell_type": "markdown",
   "metadata": {},
   "source": [
    "## Train model"
   ]
  },
  {
   "cell_type": "code",
   "execution_count": 4,
   "metadata": {},
   "outputs": [
    {
     "name": "stderr",
     "output_type": "stream",
     "text": [
      "\u001b[34m\u001b[1mwandb\u001b[0m: \u001b[33mWARNING\u001b[0m The save_model argument by default saves the model in the HDF5 format that cannot save custom objects like subclassed models and custom layers. This behavior will be deprecated in a future release in favor of the SavedModel format. Meanwhile, the HDF5 model is saved as W&B files and the SavedModel as W&B Artifacts.\n"
     ]
    },
    {
     "name": "stdout",
     "output_type": "stream",
     "text": [
      "Epoch 1/30\n"
     ]
    },
    {
     "name": "stderr",
     "output_type": "stream",
     "text": [
      "2023-01-19 09:31:04.857149: W tensorflow/core/platform/profile_utils/cpu_utils.cc:128] Failed to get CPU frequency: 0 Hz\n"
     ]
    },
    {
     "name": "stdout",
     "output_type": "stream",
     "text": [
      "  1/368 [..............................] - ETA: 2:52 - loss: 1.8623 - categorical_accuracy: 0.2000"
     ]
    },
    {
     "name": "stderr",
     "output_type": "stream",
     "text": [
      "2023-01-19 09:31:05.158171: I tensorflow/core/grappler/optimizers/custom_graph_optimizer_registry.cc:113] Plugin optimizer for device_type GPU is enabled.\n"
     ]
    },
    {
     "name": "stdout",
     "output_type": "stream",
     "text": [
      "368/368 [==============================] - ETA: 0s - loss: 0.4727 - categorical_accuracy: 0.8328"
     ]
    },
    {
     "name": "stderr",
     "output_type": "stream",
     "text": [
      "2023-01-19 09:31:09.280774: I tensorflow/core/grappler/optimizers/custom_graph_optimizer_registry.cc:113] Plugin optimizer for device_type GPU is enabled.\n",
      "WARNING:absl:Found untraced functions such as _jit_compiled_convolution_op, _jit_compiled_convolution_op while saving (showing 2 of 2). These functions will not be directly callable after loading.\n"
     ]
    },
    {
     "name": "stdout",
     "output_type": "stream",
     "text": [
      "INFO:tensorflow:Assets written to: /Users/dalimwahby/Documents/EIT/UCA/Embedded AI/Labs/Lab2/UCI_HAR/wandb/run-20230119_093100-s4gnecaf/files/model-best/assets\n"
     ]
    },
    {
     "name": "stderr",
     "output_type": "stream",
     "text": [
      "INFO:tensorflow:Assets written to: /Users/dalimwahby/Documents/EIT/UCA/Embedded AI/Labs/Lab2/UCI_HAR/wandb/run-20230119_093100-s4gnecaf/files/model-best/assets\n",
      "\u001b[34m\u001b[1mwandb\u001b[0m: Adding directory to artifact (/Users/dalimwahby/Documents/EIT/UCA/Embedded AI/Labs/Lab2/UCI_HAR/wandb/run-20230119_093100-s4gnecaf/files/model-best)... Done. 0.0s\n"
     ]
    },
    {
     "name": "stdout",
     "output_type": "stream",
     "text": [
      "368/368 [==============================] - 6s 15ms/step - loss: 0.4727 - categorical_accuracy: 0.8328 - val_loss: 0.3970 - val_categorical_accuracy: 0.8760\n",
      "Epoch 2/30\n",
      "365/368 [============================>.] - ETA: 0s - loss: 0.3217 - categorical_accuracy: 0.9233"
     ]
    },
    {
     "name": "stderr",
     "output_type": "stream",
     "text": [
      "WARNING:absl:Found untraced functions such as _jit_compiled_convolution_op, _jit_compiled_convolution_op while saving (showing 2 of 2). These functions will not be directly callable after loading.\n"
     ]
    },
    {
     "name": "stdout",
     "output_type": "stream",
     "text": [
      "INFO:tensorflow:Assets written to: /Users/dalimwahby/Documents/EIT/UCA/Embedded AI/Labs/Lab2/UCI_HAR/wandb/run-20230119_093100-s4gnecaf/files/model-best/assets\n"
     ]
    },
    {
     "name": "stderr",
     "output_type": "stream",
     "text": [
      "INFO:tensorflow:Assets written to: /Users/dalimwahby/Documents/EIT/UCA/Embedded AI/Labs/Lab2/UCI_HAR/wandb/run-20230119_093100-s4gnecaf/files/model-best/assets\n",
      "\u001b[34m\u001b[1mwandb\u001b[0m: Adding directory to artifact (/Users/dalimwahby/Documents/EIT/UCA/Embedded AI/Labs/Lab2/UCI_HAR/wandb/run-20230119_093100-s4gnecaf/files/model-best)... Done. 0.0s\n"
     ]
    },
    {
     "name": "stdout",
     "output_type": "stream",
     "text": [
      "368/368 [==============================] - 5s 13ms/step - loss: 0.3202 - categorical_accuracy: 0.9236 - val_loss: 0.2267 - val_categorical_accuracy: 0.8840\n",
      "Epoch 3/30\n",
      "366/368 [============================>.] - ETA: 0s - loss: 0.2004 - categorical_accuracy: 0.9332"
     ]
    },
    {
     "name": "stderr",
     "output_type": "stream",
     "text": [
      "WARNING:absl:Found untraced functions such as _jit_compiled_convolution_op, _jit_compiled_convolution_op while saving (showing 2 of 2). These functions will not be directly callable after loading.\n"
     ]
    },
    {
     "name": "stdout",
     "output_type": "stream",
     "text": [
      "INFO:tensorflow:Assets written to: /Users/dalimwahby/Documents/EIT/UCA/Embedded AI/Labs/Lab2/UCI_HAR/wandb/run-20230119_093100-s4gnecaf/files/model-best/assets\n"
     ]
    },
    {
     "name": "stderr",
     "output_type": "stream",
     "text": [
      "INFO:tensorflow:Assets written to: /Users/dalimwahby/Documents/EIT/UCA/Embedded AI/Labs/Lab2/UCI_HAR/wandb/run-20230119_093100-s4gnecaf/files/model-best/assets\n",
      "\u001b[34m\u001b[1mwandb\u001b[0m: Adding directory to artifact (/Users/dalimwahby/Documents/EIT/UCA/Embedded AI/Labs/Lab2/UCI_HAR/wandb/run-20230119_093100-s4gnecaf/files/model-best)... Done. 0.0s\n"
     ]
    },
    {
     "name": "stdout",
     "output_type": "stream",
     "text": [
      "368/368 [==============================] - 5s 14ms/step - loss: 0.2007 - categorical_accuracy: 0.9329 - val_loss: 0.2262 - val_categorical_accuracy: 0.9040\n",
      "Epoch 4/30\n",
      "368/368 [==============================] - 4s 11ms/step - loss: 0.1982 - categorical_accuracy: 0.9393 - val_loss: 0.5612 - val_categorical_accuracy: 0.8280\n",
      "Epoch 5/30\n",
      "368/368 [==============================] - 4s 11ms/step - loss: 0.2657 - categorical_accuracy: 0.9204 - val_loss: 0.2316 - val_categorical_accuracy: 0.9080\n",
      "Epoch 6/30\n",
      "367/368 [============================>.] - ETA: 0s - loss: 0.1620 - categorical_accuracy: 0.9443"
     ]
    },
    {
     "name": "stderr",
     "output_type": "stream",
     "text": [
      "WARNING:absl:Found untraced functions such as _jit_compiled_convolution_op, _jit_compiled_convolution_op while saving (showing 2 of 2). These functions will not be directly callable after loading.\n"
     ]
    },
    {
     "name": "stdout",
     "output_type": "stream",
     "text": [
      "INFO:tensorflow:Assets written to: /Users/dalimwahby/Documents/EIT/UCA/Embedded AI/Labs/Lab2/UCI_HAR/wandb/run-20230119_093100-s4gnecaf/files/model-best/assets\n"
     ]
    },
    {
     "name": "stderr",
     "output_type": "stream",
     "text": [
      "INFO:tensorflow:Assets written to: /Users/dalimwahby/Documents/EIT/UCA/Embedded AI/Labs/Lab2/UCI_HAR/wandb/run-20230119_093100-s4gnecaf/files/model-best/assets\n",
      "\u001b[34m\u001b[1mwandb\u001b[0m: Adding directory to artifact (/Users/dalimwahby/Documents/EIT/UCA/Embedded AI/Labs/Lab2/UCI_HAR/wandb/run-20230119_093100-s4gnecaf/files/model-best)... Done. 0.0s\n"
     ]
    },
    {
     "name": "stdout",
     "output_type": "stream",
     "text": [
      "368/368 [==============================] - 5s 14ms/step - loss: 0.1619 - categorical_accuracy: 0.9444 - val_loss: 0.2117 - val_categorical_accuracy: 0.9040\n",
      "Epoch 7/30\n",
      "368/368 [==============================] - 4s 11ms/step - loss: 0.2173 - categorical_accuracy: 0.9382 - val_loss: 0.2171 - val_categorical_accuracy: 0.9000\n",
      "Epoch 8/30\n",
      "365/368 [============================>.] - ETA: 0s - loss: 0.1699 - categorical_accuracy: 0.9434"
     ]
    },
    {
     "name": "stderr",
     "output_type": "stream",
     "text": [
      "WARNING:absl:Found untraced functions such as _jit_compiled_convolution_op, _jit_compiled_convolution_op while saving (showing 2 of 2). These functions will not be directly callable after loading.\n"
     ]
    },
    {
     "name": "stdout",
     "output_type": "stream",
     "text": [
      "INFO:tensorflow:Assets written to: /Users/dalimwahby/Documents/EIT/UCA/Embedded AI/Labs/Lab2/UCI_HAR/wandb/run-20230119_093100-s4gnecaf/files/model-best/assets\n"
     ]
    },
    {
     "name": "stderr",
     "output_type": "stream",
     "text": [
      "INFO:tensorflow:Assets written to: /Users/dalimwahby/Documents/EIT/UCA/Embedded AI/Labs/Lab2/UCI_HAR/wandb/run-20230119_093100-s4gnecaf/files/model-best/assets\n",
      "\u001b[34m\u001b[1mwandb\u001b[0m: Adding directory to artifact (/Users/dalimwahby/Documents/EIT/UCA/Embedded AI/Labs/Lab2/UCI_HAR/wandb/run-20230119_093100-s4gnecaf/files/model-best)... Done. 0.0s\n"
     ]
    },
    {
     "name": "stdout",
     "output_type": "stream",
     "text": [
      "368/368 [==============================] - 5s 13ms/step - loss: 0.1696 - categorical_accuracy: 0.9434 - val_loss: 0.1847 - val_categorical_accuracy: 0.9160\n",
      "Epoch 9/30\n",
      "368/368 [==============================] - 4s 11ms/step - loss: 0.1254 - categorical_accuracy: 0.9542 - val_loss: 0.1849 - val_categorical_accuracy: 0.9080\n",
      "Epoch 10/30\n",
      "368/368 [==============================] - 4s 11ms/step - loss: 0.1391 - categorical_accuracy: 0.9546 - val_loss: 0.3266 - val_categorical_accuracy: 0.8920\n",
      "Epoch 11/30\n",
      "366/368 [============================>.] - ETA: 0s - loss: 0.2648 - categorical_accuracy: 0.9320"
     ]
    },
    {
     "name": "stderr",
     "output_type": "stream",
     "text": [
      "WARNING:absl:Found untraced functions such as _jit_compiled_convolution_op, _jit_compiled_convolution_op while saving (showing 2 of 2). These functions will not be directly callable after loading.\n"
     ]
    },
    {
     "name": "stdout",
     "output_type": "stream",
     "text": [
      "INFO:tensorflow:Assets written to: /Users/dalimwahby/Documents/EIT/UCA/Embedded AI/Labs/Lab2/UCI_HAR/wandb/run-20230119_093100-s4gnecaf/files/model-best/assets\n"
     ]
    },
    {
     "name": "stderr",
     "output_type": "stream",
     "text": [
      "INFO:tensorflow:Assets written to: /Users/dalimwahby/Documents/EIT/UCA/Embedded AI/Labs/Lab2/UCI_HAR/wandb/run-20230119_093100-s4gnecaf/files/model-best/assets\n",
      "\u001b[34m\u001b[1mwandb\u001b[0m: Adding directory to artifact (/Users/dalimwahby/Documents/EIT/UCA/Embedded AI/Labs/Lab2/UCI_HAR/wandb/run-20230119_093100-s4gnecaf/files/model-best)... Done. 0.0s\n"
     ]
    },
    {
     "name": "stdout",
     "output_type": "stream",
     "text": [
      "368/368 [==============================] - 5s 13ms/step - loss: 0.2637 - categorical_accuracy: 0.9323 - val_loss: 0.1580 - val_categorical_accuracy: 0.9240\n",
      "Epoch 12/30\n",
      "368/368 [==============================] - 4s 11ms/step - loss: 0.1878 - categorical_accuracy: 0.9449 - val_loss: 0.2629 - val_categorical_accuracy: 0.8800\n",
      "Epoch 13/30\n",
      "368/368 [==============================] - 4s 11ms/step - loss: 0.2037 - categorical_accuracy: 0.9248 - val_loss: 0.2682 - val_categorical_accuracy: 0.8920\n",
      "Epoch 14/30\n",
      "368/368 [==============================] - 4s 11ms/step - loss: 0.3333 - categorical_accuracy: 0.9140 - val_loss: 0.1769 - val_categorical_accuracy: 0.8960\n",
      "Epoch 15/30\n",
      "368/368 [==============================] - 4s 10ms/step - loss: 0.2175 - categorical_accuracy: 0.9411 - val_loss: 0.2587 - val_categorical_accuracy: 0.8920\n",
      "Epoch 16/30\n",
      "368/368 [==============================] - 4s 11ms/step - loss: 0.2792 - categorical_accuracy: 0.9400 - val_loss: 0.1683 - val_categorical_accuracy: 0.9280\n",
      "Epoch 17/30\n",
      "368/368 [==============================] - 4s 11ms/step - loss: 0.3277 - categorical_accuracy: 0.9313 - val_loss: 0.2080 - val_categorical_accuracy: 0.9080\n",
      "Epoch 18/30\n",
      "368/368 [==============================] - 4s 11ms/step - loss: 0.2615 - categorical_accuracy: 0.9444 - val_loss: 0.2006 - val_categorical_accuracy: 0.9040\n",
      "Epoch 19/30\n",
      "368/368 [==============================] - 4s 10ms/step - loss: 0.1440 - categorical_accuracy: 0.9423 - val_loss: 0.1770 - val_categorical_accuracy: 0.9040\n",
      "Epoch 20/30\n",
      "368/368 [==============================] - 4s 10ms/step - loss: 0.2240 - categorical_accuracy: 0.9388 - val_loss: 0.1879 - val_categorical_accuracy: 0.9000\n",
      "Epoch 21/30\n",
      "368/368 [==============================] - 4s 10ms/step - loss: 0.1579 - categorical_accuracy: 0.9423 - val_loss: 0.1985 - val_categorical_accuracy: 0.8840\n",
      "Epoch 22/30\n",
      "368/368 [==============================] - 4s 10ms/step - loss: 0.1542 - categorical_accuracy: 0.9498 - val_loss: 0.2082 - val_categorical_accuracy: 0.8800\n",
      "Epoch 23/30\n",
      "368/368 [==============================] - 4s 10ms/step - loss: 0.4942 - categorical_accuracy: 0.8364 - val_loss: 0.4034 - val_categorical_accuracy: 0.8120\n",
      "Epoch 24/30\n",
      "368/368 [==============================] - 4s 11ms/step - loss: 0.3791 - categorical_accuracy: 0.8467 - val_loss: 0.2935 - val_categorical_accuracy: 0.8760\n",
      "Epoch 25/30\n",
      "368/368 [==============================] - 4s 10ms/step - loss: 0.2737 - categorical_accuracy: 0.8866 - val_loss: 0.4907 - val_categorical_accuracy: 0.7840\n",
      "Epoch 26/30\n",
      "368/368 [==============================] - 4s 10ms/step - loss: 0.2726 - categorical_accuracy: 0.8968 - val_loss: 0.3236 - val_categorical_accuracy: 0.8560\n",
      "Epoch 27/30\n",
      "368/368 [==============================] - 4s 11ms/step - loss: 0.2040 - categorical_accuracy: 0.9267 - val_loss: 0.2150 - val_categorical_accuracy: 0.8920\n",
      "Epoch 28/30\n",
      "368/368 [==============================] - 4s 11ms/step - loss: 0.2852 - categorical_accuracy: 0.9079 - val_loss: 0.2595 - val_categorical_accuracy: 0.8880\n",
      "Epoch 29/30\n",
      "368/368 [==============================] - 4s 10ms/step - loss: 0.2368 - categorical_accuracy: 0.9131 - val_loss: 0.2416 - val_categorical_accuracy: 0.8800\n",
      "Epoch 30/30\n",
      "368/368 [==============================] - 4s 11ms/step - loss: 0.2322 - categorical_accuracy: 0.9280 - val_loss: 0.2249 - val_categorical_accuracy: 0.8840\n"
     ]
    },
    {
     "data": {
      "text/plain": [
       "<keras.callbacks.History at 0x29a15b850>"
      ]
     },
     "execution_count": 4,
     "metadata": {},
     "output_type": "execute_result"
    }
   ],
   "source": [
    "model.fit(\n",
    "    x_train, \n",
    "    y_train, \n",
    "    epochs=30, \n",
    "    validation_data=(x_test_250, y_test_250),\n",
    "    batch_size=20,\n",
    "    callbacks=[\n",
    "        WandbMetricsLogger(log_freq=5),\n",
    "        WandbCallback()\n",
    "        ]\n",
    "    )"
   ]
  },
  {
   "cell_type": "markdown",
   "metadata": {},
   "source": [
    "## Evaluate model on small dataset"
   ]
  },
  {
   "cell_type": "code",
   "execution_count": 5,
   "metadata": {},
   "outputs": [
    {
     "name": "stdout",
     "output_type": "stream",
     "text": [
      "8/8 - 0s - loss: 0.2249 - categorical_accuracy: 0.8840 - 102ms/epoch - 13ms/step\n",
      "65/88 [=====================>........] - ETA: 0s"
     ]
    },
    {
     "name": "stderr",
     "output_type": "stream",
     "text": [
      "2023-01-19 09:33:09.747716: I tensorflow/core/grappler/optimizers/custom_graph_optimizer_registry.cc:113] Plugin optimizer for device_type GPU is enabled.\n"
     ]
    },
    {
     "name": "stdout",
     "output_type": "stream",
     "text": [
      "88/88 [==============================] - 0s 3ms/step\n",
      "tf.Tensor(\n",
      "[[427   5   6  28   0   0]\n",
      " [ 28 387  17  14   0   0]\n",
      " [  3   6 369  18   0   0]\n",
      " [  0  25   0 385  58   0]\n",
      " [  0   1   0 115 388   0]\n",
      " [  0   0   0   0   0 513]], shape=(6, 6), dtype=int32)\n"
     ]
    }
   ],
   "source": [
    "model.evaluate(x_test_250, y_test_250, verbose=2)\n",
    "pred_test = model.predict(x_test)\n",
    "print(tf.math.confusion_matrix(y_test.argmax(axis=1), pred_test.argmax(axis=1)))"
   ]
  },
  {
   "cell_type": "markdown",
   "metadata": {},
   "source": [
    "## Evaluate model on complete dataset"
   ]
  },
  {
   "cell_type": "code",
   "execution_count": 6,
   "metadata": {},
   "outputs": [
    {
     "name": "stdout",
     "output_type": "stream",
     "text": [
      "(2793, 128, 9)\n",
      "88/88 - 1s - loss: 2.7638 - categorical_accuracy: 0.8840 - 589ms/epoch - 7ms/step\n",
      "88/88 [==============================] - 0s 2ms/step\n",
      "tf.Tensor(\n",
      "[[427   5   6  28   0   0]\n",
      " [ 28 387  17  14   0   0]\n",
      " [  3   6 369  18   0   0]\n",
      " [  0  25   0 385  58   0]\n",
      " [  0   1   0 115 388   0]\n",
      " [  0   0   0   0   0 513]], shape=(6, 6), dtype=int32)\n"
     ]
    }
   ],
   "source": [
    "print(x_test.shape)\n",
    "model.evaluate(x_test, y_test, verbose=2)\n",
    "pred_test = model.predict(x_test)\n",
    "print(tf.math.confusion_matrix(y_test.argmax(axis=1), pred_test.argmax(axis=1)))"
   ]
  },
  {
   "cell_type": "markdown",
   "metadata": {},
   "source": [
    "## Save trained model"
   ]
  },
  {
   "cell_type": "code",
   "execution_count": 7,
   "metadata": {},
   "outputs": [
    {
     "name": "stderr",
     "output_type": "stream",
     "text": [
      "wandb: Network error (ConnectionError), entering retry loop.\n",
      "wandb: Network error (ConnectionError), entering retry loop.\n",
      "wandb: Network error (ConnectionError), entering retry loop.\n",
      "wandb: Network error (ConnectionError), entering retry loop.\n",
      "wandb: Network error (ConnectionError), entering retry loop.\n",
      "wandb: Network error (ConnectionError), entering retry loop.\n",
      "wandb: Network error (ConnectionError), entering retry loop.\n",
      "wandb: Network error (ConnectionError), entering retry loop.\n",
      "wandb: Network error (ConnectionError), entering retry loop.\n",
      "wandb: Network error (ConnectionError), entering retry loop.\n",
      "wandb: Network error (ConnectionError), entering retry loop.\n",
      "wandb: Network error (ConnectionError), entering retry loop.\n",
      "wandb: Network error (ConnectionError), entering retry loop.\n",
      "wandb: Network error (ConnectionError), entering retry loop.\n",
      "wandb: Network error (ConnectionError), entering retry loop.\n",
      "wandb: Network error (ConnectionError), entering retry loop.\n",
      "wandb: Network error (ConnectionError), entering retry loop.\n"
     ]
    }
   ],
   "source": [
    "model.save('uci-har_si4.h5')"
   ]
  },
  {
   "cell_type": "code",
   "execution_count": null,
   "metadata": {},
   "outputs": [],
   "source": []
  }
 ],
 "metadata": {
  "kernelspec": {
   "display_name": "embeddedAI",
   "language": "python",
   "name": "python3"
  },
  "language_info": {
   "codemirror_mode": {
    "name": "ipython",
    "version": 3
   },
   "file_extension": ".py",
   "mimetype": "text/x-python",
   "name": "python",
   "nbconvert_exporter": "python",
   "pygments_lexer": "ipython3",
   "version": "3.10.8"
  },
  "vscode": {
   "interpreter": {
    "hash": "a8267835e2fcf33f1870bf93cf66c65edd8c1b5eff3ac040760667d3c8cb94cd"
   }
  }
 },
 "nbformat": 4,
 "nbformat_minor": 4
}
