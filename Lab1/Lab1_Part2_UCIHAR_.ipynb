{
 "cells": [
  {
   "cell_type": "markdown",
   "metadata": {},
   "source": [
    "# Lab 1 Part II: UCI-HAR 1D CNN"
   ]
  },
  {
   "cell_type": "markdown",
   "metadata": {},
   "source": [
    "## Imports"
   ]
  },
  {
   "cell_type": "code",
   "execution_count": 2,
   "metadata": {},
   "outputs": [],
   "source": [
    "from pathlib import Path\n",
    "import numpy as np\n",
    "import tensorflow as tf\n",
    "from keras.models import Sequential\n",
    "from keras.layers import Input, Conv1D, MaxPool1D, Flatten, Dense, Activation\n",
    "from keras.utils.data_utils import get_file\n",
    "from keras.utils.np_utils import to_categorical"
   ]
  },
  {
   "cell_type": "markdown",
   "metadata": {},
   "source": [
    "## Load and format UCI-HAR dataset (raw data)"
   ]
  },
  {
   "cell_type": "code",
   "execution_count": 3,
   "metadata": {},
   "outputs": [],
   "source": [
    "dataset_path = get_file(None, \"https://archive.ics.uci.edu/ml/machine-learning-databases/00240/UCI%20HAR%20Dataset.zip\", extract=True, file_hash=\"53e099237392e0b9602f8c38f578bd8f\") # Download, cache and extract UCI-HAR\n",
    "dataset_dir = Path(dataset_path).parent\n",
    "\n",
    "def load_set(dataset_dir, part: str): # Load separate sensor signals and combine them into a single array, load labels separately\n",
    "    data = np.hstack([np.loadtxt(dataset_dir/'UCI HAR Dataset'/part/'Inertial Signals'/f'{sensor}_{axis}_{part}.txt')\n",
    "                for sensor in ('body_acc', 'body_gyro', 'total_acc')\n",
    "                    for axis in ('x', 'y', 'z')]).reshape((-1, 128, 9))\n",
    "    labels = to_categorical(np.loadtxt(dataset_dir/'UCI HAR Dataset'/part/f'y_{part}.txt') - 1)\n",
    "    return data, labels\n",
    "\n",
    "x_train, y_train = load_set(dataset_dir, 'train')\n",
    "x_test, y_test = load_set(dataset_dir, 'test')"
   ]
  },
  {
   "cell_type": "markdown",
   "metadata": {},
   "source": [
    "## Export complete test dataset (2947 vectors)"
   ]
  },
  {
   "cell_type": "code",
   "execution_count": 4,
   "metadata": {},
   "outputs": [],
   "source": [
    "np.savetxt('x_test_uci-har.csv', x_test.reshape((x_test.shape[0], -1)), delimiter=',', fmt='%s')\n",
    "np.savetxt('y_test_uci-har.csv', y_test, delimiter=',', fmt='%s')"
   ]
  },
  {
   "cell_type": "markdown",
   "metadata": {},
   "source": [
    "## Export small test dataset (250 vectors)"
   ]
  },
  {
   "cell_type": "code",
   "execution_count": 5,
   "metadata": {},
   "outputs": [],
   "source": [
    "x_test_250 = x_test[0:250]\n",
    "y_test_250 = y_test[0:250]\n",
    "np.savetxt('x_test_uci-har_250.csv', x_test_250.reshape((x_test_250.shape[0], -1)), delimiter=',', fmt='%s')\n",
    "np.savetxt('y_test_uci-har_250.csv', y_test_250, delimiter=',', fmt='%s')"
   ]
  },
  {
   "cell_type": "markdown",
   "metadata": {},
   "source": [
    "## Build model"
   ]
  },
  {
   "cell_type": "code",
   "execution_count": 35,
   "metadata": {},
   "outputs": [
    {
     "name": "stdout",
     "output_type": "stream",
     "text": [
      "Model: \"sequential_5\"\n",
      "_________________________________________________________________\n",
      " Layer (type)                Output Shape              Param #   \n",
      "=================================================================\n",
      " conv1d_9 (Conv1D)           (None, 126, 32)           896       \n",
      "                                                                 \n",
      " conv1d_10 (Conv1D)          (None, 124, 64)           6208      \n",
      "                                                                 \n",
      " max_pooling1d_4 (MaxPooling  (None, 62, 64)           0         \n",
      " 1D)                                                             \n",
      "                                                                 \n",
      " flatten_5 (Flatten)         (None, 3968)              0         \n",
      "                                                                 \n",
      " dense_5 (Dense)             (None, 6)                 23814     \n",
      "                                                                 \n",
      " activation_5 (Activation)   (None, 6)                 0         \n",
      "                                                                 \n",
      "=================================================================\n",
      "Total params: 30,918\n",
      "Trainable params: 30,918\n",
      "Non-trainable params: 0\n",
      "_________________________________________________________________\n"
     ]
    }
   ],
   "source": [
    "# model = Sequential()\n",
    "# model.add(Input(shape=(128, 9)))\n",
    "# model.add(Conv1D(filters=2, kernel_size=3, activation='relu'))\n",
    "# model.add(Flatten())\n",
    "# model.add(Dense(units=6))\n",
    "# model.add(Activation('softmax')) # SoftMax activation needs to be separate from Dense to remove it later on\n",
    "# # EXPLORE Learning Rate\n",
    "# opt = tf.keras.optimizers.Adam(learning_rate=10e-3)\n",
    "# model.summary()\n",
    "# model.compile(optimizer=opt, loss='categorical_crossentropy', metrics=['categorical_accuracy'])\n",
    "\n",
    "\n",
    "model = Sequential()\n",
    "model.add(Input(shape=(128, 9))) # 128 data points form sensors | 9 time steps\n",
    "model.add(Conv1D(filters=32, kernel_size=3, activation='relu'))\n",
    "model.add(Conv1D(filters=64, kernel_size=3, activation='relu'))\n",
    "model.add(MaxPool1D(pool_size=2))\n",
    "# model.add(Dropout(0.5))\n",
    "model.add(Flatten())\n",
    "model.add(Dense(units=6))\n",
    "model.add(Activation('softmax')) # SoftMax activation needs to be separate from Dense to remove it later on\n",
    "\n",
    "# EXPLORE Learning Rate\n",
    "opt = tf.keras.optimizers.Adam(lr=5e-3)\n",
    "model.summary()\n",
    "model.compile(optimizer=opt, loss='categorical_crossentropy', metrics=['categorical_accuracy'])"
   ]
  },
  {
   "cell_type": "markdown",
   "metadata": {},
   "source": [
    "## Train model"
   ]
  },
  {
   "cell_type": "code",
   "execution_count": 36,
   "metadata": {},
   "outputs": [
    {
     "name": "stdout",
     "output_type": "stream",
     "text": [
      "Epoch 1/3\n",
      "  5/230 [..............................] - ETA: 2s - loss: 1.4431 - categorical_accuracy: 0.4188  "
     ]
    },
    {
     "name": "stderr",
     "output_type": "stream",
     "text": [
      "2023-03-11 17:55:43.527034: I tensorflow/core/grappler/optimizers/custom_graph_optimizer_registry.cc:113] Plugin optimizer for device_type GPU is enabled.\n"
     ]
    },
    {
     "name": "stdout",
     "output_type": "stream",
     "text": [
      "229/230 [============================>.] - ETA: 0s - loss: 0.2698 - categorical_accuracy: 0.8919"
     ]
    },
    {
     "name": "stderr",
     "output_type": "stream",
     "text": [
      "2023-03-11 17:55:46.270919: I tensorflow/core/grappler/optimizers/custom_graph_optimizer_registry.cc:113] Plugin optimizer for device_type GPU is enabled.\n"
     ]
    },
    {
     "name": "stdout",
     "output_type": "stream",
     "text": [
      "230/230 [==============================] - 4s 15ms/step - loss: 0.2693 - categorical_accuracy: 0.8921 - val_loss: 0.2179 - val_categorical_accuracy: 0.9084\n",
      "Epoch 2/3\n",
      "230/230 [==============================] - 3s 14ms/step - loss: 0.1284 - categorical_accuracy: 0.9495 - val_loss: 0.3376 - val_categorical_accuracy: 0.8911\n",
      "Epoch 3/3\n",
      "230/230 [==============================] - 3s 14ms/step - loss: 0.0917 - categorical_accuracy: 0.9619 - val_loss: 0.2970 - val_categorical_accuracy: 0.9104\n",
      "Epoch 1/3\n",
      "230/230 [==============================] - 3s 14ms/step - loss: 0.0845 - categorical_accuracy: 0.9671 - val_loss: 0.3110 - val_categorical_accuracy: 0.9206\n",
      "Epoch 2/3\n",
      "230/230 [==============================] - 3s 14ms/step - loss: 0.0699 - categorical_accuracy: 0.9687 - val_loss: 0.2712 - val_categorical_accuracy: 0.9332\n",
      "Epoch 3/3\n",
      "230/230 [==============================] - 3s 14ms/step - loss: 0.0536 - categorical_accuracy: 0.9774 - val_loss: 0.3427 - val_categorical_accuracy: 0.9332\n",
      "Epoch 1/3\n",
      "230/230 [==============================] - 3s 15ms/step - loss: 0.0633 - categorical_accuracy: 0.9769 - val_loss: 0.5244 - val_categorical_accuracy: 0.9230\n",
      "Epoch 2/3\n",
      "230/230 [==============================] - 3s 13ms/step - loss: 0.0530 - categorical_accuracy: 0.9800 - val_loss: 0.4129 - val_categorical_accuracy: 0.9355\n",
      "Epoch 3/3\n",
      "230/230 [==============================] - 3s 13ms/step - loss: 0.0522 - categorical_accuracy: 0.9838 - val_loss: 0.3815 - val_categorical_accuracy: 0.9399\n"
     ]
    }
   ],
   "source": [
    "hist1 = model.fit(x_train, y_train, epochs=3, validation_data=(x_test, y_test))\n",
    "hist2 = model.fit(x_train, y_train, epochs=3, validation_data=(x_test, y_test))\n",
    "hist3 = model.fit(x_train, y_train, epochs=3, validation_data=(x_test, y_test))"
   ]
  },
  {
   "cell_type": "markdown",
   "metadata": {},
   "source": [
    "## Evaluate model on complete test dataset"
   ]
  },
  {
   "cell_type": "code",
   "execution_count": 17,
   "metadata": {},
   "outputs": [
    {
     "name": "stdout",
     "output_type": "stream",
     "text": [
      "93/93 - 1s - loss: 0.3261 - categorical_accuracy: 0.9223 - 741ms/epoch - 8ms/step\n",
      "67/93 [====================>.........] - ETA: 0s"
     ]
    },
    {
     "name": "stderr",
     "output_type": "stream",
     "text": [
      "2023-03-11 17:20:22.077618: I tensorflow/core/grappler/optimizers/custom_graph_optimizer_registry.cc:113] Plugin optimizer for device_type GPU is enabled.\n"
     ]
    },
    {
     "name": "stdout",
     "output_type": "stream",
     "text": [
      "93/93 [==============================] - 0s 3ms/step\n",
      "tf.Tensor(\n",
      "[[489   5   1   0   1   0]\n",
      " [ 20 449   2   0   0   0]\n",
      " [ 44  34 342   0   0   0]\n",
      " [  1   3   0 380 107   0]\n",
      " [  1   1   0   9 521   0]\n",
      " [  0   0   0   0   0 537]], shape=(6, 6), dtype=int32)\n"
     ]
    }
   ],
   "source": [
    "model.evaluate(x_test, y_test, verbose=2)\n",
    "pred_test = model.predict(x_test)\n",
    "print(tf.math.confusion_matrix(y_test.argmax(axis=1), pred_test.argmax(axis=1)))"
   ]
  },
  {
   "cell_type": "markdown",
   "metadata": {},
   "source": [
    "## Evaluate model on small test dataset"
   ]
  },
  {
   "cell_type": "code",
   "execution_count": 18,
   "metadata": {},
   "outputs": [
    {
     "name": "stdout",
     "output_type": "stream",
     "text": [
      "8/8 - 0s - loss: 0.6598 - categorical_accuracy: 0.8000 - 91ms/epoch - 11ms/step\n",
      "8/8 [==============================] - 0s 5ms/step\n",
      "tf.Tensor(\n",
      "[[53  0  0  0  0  0]\n",
      " [ 0 25  0  0  0  0]\n",
      " [ 1 16  7  0  0  0]\n",
      " [ 0  0  0 13 33  0]\n",
      " [ 0  0  0  0 54  0]\n",
      " [ 0  0  0  0  0 48]], shape=(6, 6), dtype=int32)\n"
     ]
    }
   ],
   "source": [
    "model.evaluate(x_test_250, y_test_250, verbose=2)\n",
    "pred_test_250 = model.predict(x_test_250)\n",
    "print(tf.math.confusion_matrix(y_test_250.argmax(axis=1), pred_test_250.argmax(axis=1)))"
   ]
  },
  {
   "cell_type": "markdown",
   "metadata": {},
   "source": [
    "## Save trained model"
   ]
  },
  {
   "cell_type": "code",
   "execution_count": 10,
   "metadata": {},
   "outputs": [],
   "source": [
    "model.save('lab1_part2_uci-har.h5')"
   ]
  },
  {
   "cell_type": "code",
   "execution_count": null,
   "metadata": {},
   "outputs": [],
   "source": []
  }
 ],
 "metadata": {
  "kernelspec": {
   "display_name": "Python 3 (ipykernel)",
   "language": "python",
   "name": "python3"
  },
  "language_info": {
   "codemirror_mode": {
    "name": "ipython",
    "version": 3
   },
   "file_extension": ".py",
   "mimetype": "text/x-python",
   "name": "python",
   "nbconvert_exporter": "python",
   "pygments_lexer": "ipython3",
   "version": "3.9.15"
  }
 },
 "nbformat": 4,
 "nbformat_minor": 4
}
