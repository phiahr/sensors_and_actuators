{
 "cells": [
  {
   "cell_type": "markdown",
   "metadata": {},
   "source": [
    "# Lab 1 Part II: UCI-HAR 1D CNN"
   ]
  },
  {
   "cell_type": "markdown",
   "metadata": {},
   "source": [
    "## Imports"
   ]
  },
  {
   "cell_type": "code",
   "execution_count": 2,
   "metadata": {},
   "outputs": [],
   "source": [
    "from pathlib import Path\n",
    "import numpy as np\n",
    "import tensorflow as tf\n",
    "from keras.models import Sequential\n",
    "from keras.layers import Input, Conv1D, MaxPool1D, Flatten, Dense, Activation\n",
    "from keras.utils.data_utils import get_file\n",
    "from keras.utils.np_utils import to_categorical"
   ]
  },
  {
   "cell_type": "markdown",
   "metadata": {},
   "source": [
    "## Load and format UCI-HAR dataset (raw data)"
   ]
  },
  {
   "cell_type": "code",
   "execution_count": 3,
   "metadata": {},
   "outputs": [],
   "source": [
    "dataset_path = get_file(None, \"https://archive.ics.uci.edu/ml/machine-learning-databases/00240/UCI%20HAR%20Dataset.zip\", extract=True, file_hash=\"53e099237392e0b9602f8c38f578bd8f\") # Download, cache and extract UCI-HAR\n",
    "dataset_dir = Path(dataset_path).parent\n",
    "\n",
    "def load_set(dataset_dir, part: str): # Load separate sensor signals and combine them into a single array, load labels separately\n",
    "    data = np.hstack([np.loadtxt(dataset_dir/'UCI HAR Dataset'/part/'Inertial Signals'/f'{sensor}_{axis}_{part}.txt')\n",
    "                for sensor in ('body_acc', 'body_gyro', 'total_acc')\n",
    "                    for axis in ('x', 'y', 'z')]).reshape((-1, 128, 9))\n",
    "    labels = to_categorical(np.loadtxt(dataset_dir/'UCI HAR Dataset'/part/f'y_{part}.txt') - 1)\n",
    "    return data, labels\n",
    "\n",
    "x_train, y_train = load_set(dataset_dir, 'train')\n",
    "x_test, y_test = load_set(dataset_dir, 'test')"
   ]
  },
  {
   "cell_type": "markdown",
   "metadata": {},
   "source": [
    "## Export complete test dataset (2947 vectors)"
   ]
  },
  {
   "cell_type": "code",
   "execution_count": 4,
   "metadata": {},
   "outputs": [],
   "source": [
    "np.savetxt('x_test_uci-har.csv', x_test.reshape((x_test.shape[0], -1)), delimiter=',', fmt='%s')\n",
    "np.savetxt('y_test_uci-har.csv', y_test, delimiter=',', fmt='%s')"
   ]
  },
  {
   "cell_type": "markdown",
   "metadata": {},
   "source": [
    "## Export small test dataset (250 vectors)"
   ]
  },
  {
   "cell_type": "code",
   "execution_count": 5,
   "metadata": {},
   "outputs": [],
   "source": [
    "x_test_250 = x_test[0:250]\n",
    "y_test_250 = y_test[0:250]\n",
    "np.savetxt('x_test_uci-har_250.csv', x_test_250.reshape((x_test_250.shape[0], -1)), delimiter=',', fmt='%s')\n",
    "np.savetxt('y_test_uci-har_250.csv', y_test_250, delimiter=',', fmt='%s')"
   ]
  },
  {
   "cell_type": "markdown",
   "metadata": {},
   "source": [
    "## Build model"
   ]
  },
  {
   "cell_type": "code",
   "execution_count": 15,
   "metadata": {},
   "outputs": [
    {
     "name": "stdout",
     "output_type": "stream",
     "text": [
      "Model: \"sequential_2\"\n",
      "_________________________________________________________________\n",
      " Layer (type)                Output Shape              Param #   \n",
      "=================================================================\n",
      " conv1d_3 (Conv1D)           (None, 126, 32)           896       \n",
      "                                                                 \n",
      " conv1d_4 (Conv1D)           (None, 124, 64)           6208      \n",
      "                                                                 \n",
      " max_pooling1d_1 (MaxPooling  (None, 62, 64)           0         \n",
      " 1D)                                                             \n",
      "                                                                 \n",
      " flatten_2 (Flatten)         (None, 3968)              0         \n",
      "                                                                 \n",
      " dense_2 (Dense)             (None, 6)                 23814     \n",
      "                                                                 \n",
      " activation_2 (Activation)   (None, 6)                 0         \n",
      "                                                                 \n",
      "=================================================================\n",
      "Total params: 30,918\n",
      "Trainable params: 30,918\n",
      "Non-trainable params: 0\n",
      "_________________________________________________________________\n"
     ]
    }
   ],
   "source": [
    "# model = Sequential()\n",
    "# model.add(Input(shape=(128, 9)))\n",
    "# model.add(Conv1D(filters=2, kernel_size=3, activation='relu'))\n",
    "# model.add(Flatten())\n",
    "# model.add(Dense(units=6))\n",
    "# model.add(Activation('softmax')) # SoftMax activation needs to be separate from Dense to remove it later on\n",
    "# # EXPLORE Learning Rate\n",
    "# opt = tf.keras.optimizers.Adam(learning_rate=10e-3)\n",
    "# model.summary()\n",
    "# model.compile(optimizer=opt, loss='categorical_crossentropy', metrics=['categorical_accuracy'])\n",
    "\n",
    "\n",
    "model = Sequential()\n",
    "model.add(Input(shape=(128, 9))) # 128 data points form sensors | 9 time steps\n",
    "model.add(Conv1D(filters=28, kernel_size=65, activation='relu'))\n",
    "model.add(Conv1D(filters=64, kernel_size=3, activation='relu'))\n",
    "model.add(MaxPool1D(pool_size=2))\n",
    "# model.add(Dropout(0.5))\n",
    "model.add(Flatten())\n",
    "model.add(Dense(units=6))\n",
    "model.add(Activation('softmax')) # SoftMax activation needs to be separate from Dense to remove it later on\n",
    "\n",
    "# EXPLORE Learning Rate\n",
    "opt = tf.keras.optimizers.Adam(lr=5e-3)\n",
    "model.summary()\n",
    "model.compile(optimizer=opt, loss='categorical_crossentropy', metrics=['categorical_accuracy'])"
   ]
  },
  {
   "cell_type": "markdown",
   "metadata": {},
   "source": [
    "## Train model"
   ]
  },
  {
   "cell_type": "code",
   "execution_count": 19,
   "metadata": {},
   "outputs": [
    {
     "name": "stdout",
     "output_type": "stream",
     "text": [
      "Epoch 1/3\n",
      "230/230 [==============================] - 3s 14ms/step - loss: 0.0736 - categorical_accuracy: 0.9699 - val_loss: 0.2450 - val_categorical_accuracy: 0.9372\n",
      "Epoch 2/3\n",
      "230/230 [==============================] - 3s 14ms/step - loss: 0.0556 - categorical_accuracy: 0.9785 - val_loss: 0.2737 - val_categorical_accuracy: 0.9393\n",
      "Epoch 3/3\n",
      "230/230 [==============================] - 3s 14ms/step - loss: 0.0639 - categorical_accuracy: 0.9762 - val_loss: 0.2184 - val_categorical_accuracy: 0.9535\n",
      "Epoch 1/3\n",
      "230/230 [==============================] - 3s 14ms/step - loss: 0.0520 - categorical_accuracy: 0.9825 - val_loss: 0.2396 - val_categorical_accuracy: 0.9539\n",
      "Epoch 2/3\n",
      "230/230 [==============================] - 3s 15ms/step - loss: 0.0382 - categorical_accuracy: 0.9860 - val_loss: 0.4072 - val_categorical_accuracy: 0.9335\n",
      "Epoch 3/3\n",
      "230/230 [==============================] - 3s 14ms/step - loss: 0.0364 - categorical_accuracy: 0.9856 - val_loss: 0.3087 - val_categorical_accuracy: 0.9430\n",
      "Epoch 1/3\n",
      "230/230 [==============================] - 3s 14ms/step - loss: 0.0371 - categorical_accuracy: 0.9888 - val_loss: 0.2750 - val_categorical_accuracy: 0.9423\n",
      "Epoch 2/3\n",
      "230/230 [==============================] - 3s 14ms/step - loss: 0.0605 - categorical_accuracy: 0.9861 - val_loss: 0.3343 - val_categorical_accuracy: 0.9413\n",
      "Epoch 3/3\n",
      "230/230 [==============================] - 3s 14ms/step - loss: 0.0261 - categorical_accuracy: 0.9909 - val_loss: 0.4365 - val_categorical_accuracy: 0.9403\n"
     ]
    }
   ],
   "source": [
    "hist1 = model.fit(x_train, y_train, epochs=3, validation_data=(x_test, y_test))\n",
    "hist2 = model.fit(x_train, y_train, epochs=3, validation_data=(x_test, y_test))\n",
    "hist3 = model.fit(x_train, y_train, epochs=3, validation_data=(x_test, y_test))"
   ]
  },
  {
   "cell_type": "code",
   "execution_count": 25,
   "metadata": {},
   "outputs": [
    {
     "name": "stdout",
     "output_type": "stream",
     "text": [
      "Train 1:\n",
      "Train 1 :\n",
      "[0.9699401259422302, 0.978509247303009, 0.9761969447135925]\n",
      "[0.07358816266059875, 0.05560464784502983, 0.06385743618011475]\n",
      "Train 2:\n",
      "Train 2 :\n",
      "[0.9824537038803101, 0.9859901666641235, 0.9855821132659912]\n",
      "[0.05195469409227371, 0.03816013038158417, 0.0364258736371994]\n",
      "Train 3:\n",
      "Train 3 :\n",
      "[0.9888465404510498, 0.986126184463501, 0.9908868074417114]\n",
      "[0.037058569490909576, 0.06052679568529129, 0.026058565825223923]\n",
      "0.9827257593472799\n",
      "0.04924831953313616\n"
     ]
    }
   ],
   "source": [
    "hists = [hist1, hist2, hist3]\n",
    "accuracies = []\n",
    "stds = []\n",
    "\n",
    "i = 1\n",
    "for hist in hists:\n",
    "\n",
    "    print(\"Train {0}:\".format(i))\n",
    "\n",
    "    print(hist.history[\"categorical_accuracy\"])\n",
    "    print(hist.history[\"loss\"])\n",
    "\n",
    "    accuracies.append(hist.history[\"categorical_accuracy\"])\n",
    "    stds.append(hist.history[\"loss\"])\n",
    "\n",
    "    i += 1\n",
    "\n",
    "print(np.mean(accuracies))\n",
    "print(np.mean(stds))\n"
   ]
  },
  {
   "cell_type": "markdown",
   "metadata": {},
   "source": [
    "## Evaluate model on complete test dataset"
   ]
  },
  {
   "cell_type": "code",
   "execution_count": 17,
   "metadata": {},
   "outputs": [
    {
     "name": "stdout",
     "output_type": "stream",
     "text": [
      "93/93 - 1s - loss: 0.3261 - categorical_accuracy: 0.9223 - 741ms/epoch - 8ms/step\n",
      "67/93 [====================>.........] - ETA: 0s"
     ]
    },
    {
     "name": "stderr",
     "output_type": "stream",
     "text": [
      "2023-03-11 17:20:22.077618: I tensorflow/core/grappler/optimizers/custom_graph_optimizer_registry.cc:113] Plugin optimizer for device_type GPU is enabled.\n"
     ]
    },
    {
     "name": "stdout",
     "output_type": "stream",
     "text": [
      "93/93 [==============================] - 0s 3ms/step\n",
      "tf.Tensor(\n",
      "[[489   5   1   0   1   0]\n",
      " [ 20 449   2   0   0   0]\n",
      " [ 44  34 342   0   0   0]\n",
      " [  1   3   0 380 107   0]\n",
      " [  1   1   0   9 521   0]\n",
      " [  0   0   0   0   0 537]], shape=(6, 6), dtype=int32)\n"
     ]
    }
   ],
   "source": [
    "model.evaluate(x_test, y_test, verbose=2)\n",
    "pred_test = model.predict(x_test)\n",
    "print(tf.math.confusion_matrix(y_test.argmax(axis=1), pred_test.argmax(axis=1)))"
   ]
  },
  {
   "cell_type": "markdown",
   "metadata": {},
   "source": [
    "## Evaluate model on small test dataset"
   ]
  },
  {
   "cell_type": "code",
   "execution_count": 18,
   "metadata": {},
   "outputs": [
    {
     "name": "stdout",
     "output_type": "stream",
     "text": [
      "8/8 - 0s - loss: 0.6598 - categorical_accuracy: 0.8000 - 91ms/epoch - 11ms/step\n",
      "8/8 [==============================] - 0s 5ms/step\n",
      "tf.Tensor(\n",
      "[[53  0  0  0  0  0]\n",
      " [ 0 25  0  0  0  0]\n",
      " [ 1 16  7  0  0  0]\n",
      " [ 0  0  0 13 33  0]\n",
      " [ 0  0  0  0 54  0]\n",
      " [ 0  0  0  0  0 48]], shape=(6, 6), dtype=int32)\n"
     ]
    }
   ],
   "source": [
    "model.evaluate(x_test_250, y_test_250, verbose=2)\n",
    "pred_test_250 = model.predict(x_test_250)\n",
    "print(tf.math.confusion_matrix(y_test_250.argmax(axis=1), pred_test_250.argmax(axis=1)))"
   ]
  },
  {
   "cell_type": "markdown",
   "metadata": {},
   "source": [
    "## Save trained model"
   ]
  },
  {
   "cell_type": "code",
   "execution_count": 10,
   "metadata": {},
   "outputs": [],
   "source": [
    "model.save('lab1_part2_uci-har.h5')"
   ]
  },
  {
   "cell_type": "code",
   "execution_count": null,
   "metadata": {},
   "outputs": [],
   "source": []
  }
 ],
 "metadata": {
  "kernelspec": {
   "display_name": "Python 3 (ipykernel)",
   "language": "python",
   "name": "python3"
  },
  "language_info": {
   "codemirror_mode": {
    "name": "ipython",
    "version": 3
   },
   "file_extension": ".py",
   "mimetype": "text/x-python",
   "name": "python",
   "nbconvert_exporter": "python",
   "pygments_lexer": "ipython3",
   "version": "3.9.15"
  }
 },
 "nbformat": 4,
 "nbformat_minor": 4
}
